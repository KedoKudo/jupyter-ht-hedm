{
 "cells": [
  {
   "cell_type": "markdown",
   "metadata": {},
   "source": [
    "# Preparation\n",
    "\n",
    "Load necessary modules and initialize relavent devices"
   ]
  },
  {
   "cell_type": "code",
   "execution_count": 1,
   "metadata": {},
   "outputs": [
    {
     "name": "stderr",
     "output_type": "stream",
     "text": [
      "/home/beams/S6BM/opt/miniconda3/envs/bluesky_py37/lib/python3.7/site-packages/databroker/_core.py:962: YAMLLoadWarning: calling yaml.load() without Loader=... is deprecated, as the default Loader is unsafe. Please read https://msg.pyyaml.org/load for full details.\n",
      "  return yaml.load(f)\n",
      "/home/beams/S6BM/opt/miniconda3/envs/bluesky_py37/lib/python3.7/site-packages/epics/pv.py:110: UserWarning: The `context` kwarg for epics.get_pv() is deprecated. New PVs will _not_ be created in the requested context.\n",
      "  'The `context` kwarg for epics.get_pv() is deprecated. New PVs '\n"
     ]
    }
   ],
   "source": [
    "%run seisidd/tomo_init.py"
   ]
  },
  {
   "cell_type": "code",
   "execution_count": 2,
   "metadata": {},
   "outputs": [],
   "source": [
    "mode.set('dryrun')"
   ]
  },
  {
   "cell_type": "code",
   "execution_count": 3,
   "metadata": {},
   "outputs": [],
   "source": [
    "A_shutter = get_shutter('dryrun')\n",
    "tomostage = get_motors('dryrun') \n",
    "preci     = tomostage.preci              \n",
    "samX      = tomostage.samX               \n",
    "ksamX     = tomostage.ksamX\n",
    "ksamZ     = tomostage.ksamZ        \n",
    "samY      = tomostage.samY               \n",
    "psofly    = get_fly_motor(mode='dryrun')\n",
    "tomostage.psofly = psofly\n",
    "det       = get_detector(mode='dryrun')"
   ]
  },
  {
   "cell_type": "code",
   "execution_count": 4,
   "metadata": {},
   "outputs": [
    {
     "data": {
      "text/plain": [
       "EpicsMotor(prefix='6bmpreci:m1', name='tomostage_preci', parent='tomostage', settle_time=0.0, timeout=None, read_attrs=['user_readback', 'user_setpoint'], configuration_attrs=['user_offset', 'user_offset_dir', 'velocity', 'acceleration', 'motor_egu'])"
      ]
     },
     "execution_count": 4,
     "metadata": {},
     "output_type": "execute_result"
    }
   ],
   "source": [
    "tomostage.preci"
   ]
  },
  {
   "cell_type": "markdown",
   "metadata": {},
   "source": [
    "You can check the __prefined variables and functions__ in the following two dictionaries:\n",
    "\n",
    "```\n",
    "keywords_vars = {}  # {name: short description}\n",
    "keywords_func = {}  # {name: short descciption}\n",
    "```\n",
    "\n",
    "or the corresponding functions:\n",
    "\n",
    "```\n",
    "list_predefined_vars()\n",
    "list_predefined_func()\n",
    "```"
   ]
  },
  {
   "cell_type": "code",
   "execution_count": 5,
   "metadata": {},
   "outputs": [
    {
     "data": {
      "text/plain": [
       "Current runtime mode is set to: dryrun ['debug', 'dryrun', 'production']"
      ]
     },
     "execution_count": 5,
     "metadata": {},
     "output_type": "execute_result"
    }
   ],
   "source": [
    "mode"
   ]
  },
  {
   "cell_type": "code",
   "execution_count": 6,
   "metadata": {},
   "outputs": [
    {
     "name": "stdout",
     "output_type": "stream",
     "text": [
      "func:\n"
     ]
    },
    {
     "data": {
      "text/html": [
       "<table>\n",
       "<thead>\n",
       "<tr><th>name                  </th><th>description                                    </th></tr>\n",
       "</thead>\n",
       "<tbody>\n",
       "<tr><td>get_runengine         </td><td>Get a bluesky RunEngine                        </td></tr>\n",
       "<tr><td>load_config           </td><td>load yaml to a dict                            </td></tr>\n",
       "<tr><td>get_shutter           </td><td>Return a connection to a sim/real shutter      </td></tr>\n",
       "<tr><td>get_motors            </td><td>Return a connection to sim/real tomostage motor</td></tr>\n",
       "<tr><td>get_fly_motor         </td><td>Return a connection to fly IOC control         </td></tr>\n",
       "<tr><td>get_detector          </td><td>Return a connection to the detector            </td></tr>\n",
       "<tr><td>resume_motors_position</td><td>Move motors back to init position              </td></tr>\n",
       "</tbody>\n",
       "</table>"
      ],
      "text/plain": [
       "<IPython.core.display.HTML object>"
      ]
     },
     "metadata": {},
     "output_type": "display_data"
    }
   ],
   "source": [
    "print('func:')\n",
    "list_predefined_func()"
   ]
  },
  {
   "cell_type": "markdown",
   "metadata": {},
   "source": [
    "__Fill__ out the __experiment details__ below for the metadata handler (MongoDB)"
   ]
  },
  {
   "cell_type": "code",
   "execution_count": 7,
   "metadata": {},
   "outputs": [],
   "source": [
    "RE.md['beamline_id']      = 'APS 6-ID-D'\n",
    "RE.md['proposal_id']      = 'internal test'\n",
    "RE.md['pid']              = os.getpid()\n",
    "RE.md['login_id']         = USERNAME + '@' + HOSTNAME\n",
    "RE.md['BLUESKY_VERSION']  = bluesky.__version__\n",
    "RE.md['OPHYD_VERSION']    = ophyd.__version__\n",
    "RE.md['apstools_VERSION'] = apstools.__version__\n",
    "RE.md['SESSION_STARTED']  = datetime.isoformat(datetime.now(), \" \")"
   ]
  },
  {
   "cell_type": "markdown",
   "metadata": {},
   "source": [
    "# Initialization\n",
    "\n",
    "Perform control initialization for all related hardware."
   ]
  },
  {
   "cell_type": "code",
   "execution_count": 8,
   "metadata": {},
   "outputs": [],
   "source": [
    "mode.set('dryrun')"
   ]
  },
  {
   "cell_type": "markdown",
   "metadata": {},
   "source": [
    "Install global __suspenders__ as a safeguard for this experiment"
   ]
  },
  {
   "cell_type": "code",
   "execution_count": 9,
   "metadata": {},
   "outputs": [],
   "source": [
    "import apstools.devices      as APS_devices\n",
    "from   bluesky.suspenders import SuspendFloor\n",
    "\n",
    "aps = APS_devices.ApsMachineParametersDevice(name=\"APS\")\n",
    "\n",
    "# monitor ring current\n",
    "suspend_APS_current = SuspendFloor(aps.current, 2, resume_thresh=10)\n",
    "RE.install_suspender(suspend_APS_current)\n",
    "\n",
    "# monitor shutter status\n",
    "# NOTE: do not install right away since we need to close the shutter to collect dark field\n",
    "suspend_A_shutter = SuspendFloor(A_shutter.pss_state, 1)\n"
   ]
  },
  {
   "cell_type": "markdown",
   "metadata": {},
   "source": [
    "Import the __necessary__ predefined plan stubs"
   ]
  },
  {
   "cell_type": "code",
   "execution_count": 10,
   "metadata": {},
   "outputs": [],
   "source": [
    "from seisidd.tomo_plans import tomo_scan\n",
    "\n",
    "scan_cfg = 'seisidd/config/tomo_scan_template.yml'"
   ]
  },
  {
   "cell_type": "markdown",
   "metadata": {},
   "source": [
    "Make sure check the scan with _summarize_plan_ before running"
   ]
  },
  {
   "cell_type": "code",
   "execution_count": 11,
   "metadata": {},
   "outputs": [],
   "source": [
    "from bluesky.simulators import summarize_plan"
   ]
  },
  {
   "cell_type": "code",
   "execution_count": 12,
   "metadata": {},
   "outputs": [
    {
     "name": "stdout",
     "output_type": "stream",
     "text": [
      "=================================== Open Run ===================================\n",
      "A_shutter -> open\n",
      "det_tiff1_file_path -> /dev/shm/tmp/\n",
      "det_tiff1_file_name -> ttt\n",
      "det_tiff1_file_write_mode -> 2\n",
      "det_tiff1_num_capture -> 66\n",
      "det_tiff1_file_template -> %s%s_%06d.hdf\n",
      "det_hdf1_file_path -> /dev/shm/tmp/\n",
      "det_hdf1_file_name -> ttt\n",
      "det_hdf1_file_write_mode -> 2\n",
      "det_hdf1_num_capture -> 66\n",
      "det_hdf1_file_template -> %s%s_%06d.hdf\n",
      "det_tiff1_enable -> 0\n",
      "det_hdf1_enable -> 1\n",
      "det_hdf1_capture -> 1\n",
      "det_cam_frame_type -> 0\n",
      "=================================== Open Run ===================================\n",
      "tomostage_ksamX -> -1.0\n",
      "tomostage_ksamZ -> 0.0\n",
      "det_hdf1_nd_array_port -> PROC1\n",
      "det_tiff1_nd_array_port -> PROC1\n",
      "det_proc1_enable -> 1\n",
      "det_proc1_reset_filter -> 1\n",
      "det_proc1_num_filter -> 1\n",
      "det_cam_trigger_mode -> Internal\n",
      "det_cam_image_mode -> Multiple\n",
      "det_cam_num_images -> 5\n",
      "  Read ['det']\n",
      "tomostage_samX -> 0.0\n",
      "tomostage_samY -> 0.0\n",
      "================================== Close Run ===================================\n",
      "det_cam_frame_type -> 1\n",
      "=================================== Open Run ===================================\n",
      "det_hdf1_nd_array_port -> PG1\n",
      "det_tiff1_nd_array_port -> PG1\n",
      "psofly_start -> 0.0\n",
      "psofly_end -> 10.0\n",
      "psofly_scan_delta -> 0.2\n",
      "psofly_slew_speed -> 1.9413706076489998\n",
      "psofly_taxi -> Taxi\n",
      "det_cam_num_images -> 51\n",
      "det_cam_trigger_mode -> Overlapped\n",
      "psofly_fly -> Fly\n",
      "================================== Close Run ===================================\n",
      "det_cam_frame_type -> 2\n",
      "=================================== Open Run ===================================\n",
      "tomostage_ksamX -> -0.984807753012208\n",
      "tomostage_ksamZ -> 0.17364817766693033\n",
      "det_hdf1_nd_array_port -> PROC1\n",
      "det_tiff1_nd_array_port -> PROC1\n",
      "det_proc1_enable -> 1\n",
      "det_proc1_reset_filter -> 1\n",
      "det_proc1_num_filter -> 1\n",
      "det_cam_trigger_mode -> Internal\n",
      "det_cam_image_mode -> Multiple\n",
      "det_cam_num_images -> 5\n",
      "  Read ['det']\n",
      "tomostage_samX -> 0.0\n",
      "tomostage_samY -> 0.0\n",
      "================================== Close Run ===================================\n",
      "det_cam_frame_type -> 3\n",
      "A_shutter -> close\n",
      "=================================== Open Run ===================================\n",
      "det_hdf1_nd_array_port -> PROC1\n",
      "det_tiff1_nd_array_port -> PROC1\n",
      "det_proc1_enable -> 1\n",
      "det_proc1_reset_filter -> 1\n",
      "det_proc1_num_filter -> 1\n",
      "det_cam_trigger_mode -> Internal\n",
      "det_cam_image_mode -> Multiple\n",
      "det_cam_num_images -> 5\n",
      "  Read ['det']\n",
      "================================== Close Run ===================================\n",
      "================================== Close Run ===================================\n"
     ]
    }
   ],
   "source": [
    "summarize_plan(tomo_scan(det, tomostage, A_shutter, suspend_A_shutter, scan_cfg, init_motors_pos))"
   ]
  },
  {
   "cell_type": "code",
   "execution_count": 13,
   "metadata": {},
   "outputs": [
    {
     "name": "stderr",
     "output_type": "stream",
     "text": [
      "ERROR:root:Internal Python error in the inspect module.\n",
      "Below is the traceback from this internal error.\n",
      "\n"
     ]
    },
    {
     "name": "stdout",
     "output_type": "stream",
     "text": [
      "Traceback (most recent call last):\n",
      "  File \"/home/beams/S6BM/opt/miniconda3/envs/bluesky_py37/lib/python3.7/site-packages/IPython/core/interactiveshell.py\", line 3325, in run_code\n",
      "    exec(code_obj, self.user_global_ns, self.user_ns)\n",
      "  File \"<ipython-input-13-f9f71f34607f>\", line 1, in <module>\n",
      "    RE(tomo_scan(det, tomostage, A_shutter, suspend_A_shutter, scan_cfg, init_motors_pos))\n",
      "  File \"/home/beams/S6BM/opt/miniconda3/envs/bluesky_py37/lib/python3.7/site-packages/bluesky/run_engine.py\", line 742, in __call__\n",
      "    self.loop.run_forever()\n",
      "  File \"/home/beams/S6BM/opt/miniconda3/envs/bluesky_py37/lib/python3.7/asyncio/base_events.py\", line 526, in run_forever\n",
      "    raise RuntimeError('This event loop is already running')\n",
      "RuntimeError: This event loop is already running\n",
      "\n",
      "During handling of the above exception, another exception occurred:\n",
      "\n",
      "Traceback (most recent call last):\n",
      "  File \"/home/beams/S6BM/opt/miniconda3/envs/bluesky_py37/lib/python3.7/site-packages/IPython/core/interactiveshell.py\", line 2039, in showtraceback\n",
      "    stb = value._render_traceback_()\n",
      "AttributeError: 'RuntimeError' object has no attribute '_render_traceback_'\n",
      "\n",
      "During handling of the above exception, another exception occurred:\n",
      "\n",
      "Traceback (most recent call last):\n",
      "  File \"/home/beams/S6BM/opt/miniconda3/envs/bluesky_py37/lib/python3.7/site-packages/IPython/core/ultratb.py\", line 1101, in get_records\n",
      "    return _fixed_getinnerframes(etb, number_of_lines_of_context, tb_offset)\n",
      "  File \"/home/beams/S6BM/opt/miniconda3/envs/bluesky_py37/lib/python3.7/site-packages/IPython/core/ultratb.py\", line 319, in wrapped\n",
      "    return f(*args, **kwargs)\n",
      "  File \"/home/beams/S6BM/opt/miniconda3/envs/bluesky_py37/lib/python3.7/site-packages/IPython/core/ultratb.py\", line 353, in _fixed_getinnerframes\n",
      "    records = fix_frame_records_filenames(inspect.getinnerframes(etb, context))\n",
      "  File \"/home/beams/S6BM/opt/miniconda3/envs/bluesky_py37/lib/python3.7/inspect.py\", line 1502, in getinnerframes\n",
      "    frameinfo = (tb.tb_frame,) + getframeinfo(tb, context)\n",
      "  File \"/home/beams/S6BM/opt/miniconda3/envs/bluesky_py37/lib/python3.7/inspect.py\", line 1460, in getframeinfo\n",
      "    filename = getsourcefile(frame) or getfile(frame)\n",
      "  File \"/home/beams/S6BM/opt/miniconda3/envs/bluesky_py37/lib/python3.7/inspect.py\", line 696, in getsourcefile\n",
      "    if getattr(getmodule(object, filename), '__loader__', None) is not None:\n",
      "  File \"/home/beams/S6BM/opt/miniconda3/envs/bluesky_py37/lib/python3.7/inspect.py\", line 742, in getmodule\n",
      "    os.path.realpath(f)] = module.__name__\n",
      "AttributeError: module has no attribute '__name__'\n"
     ]
    },
    {
     "ename": "RuntimeError",
     "evalue": "This event loop is already running",
     "output_type": "error",
     "traceback": [
      "\u001b[0;31m---------------------------------------------------------------------------\u001b[0m"
     ]
    },
    {
     "name": "stdout",
     "output_type": "stream",
     "text": [
      "Transient Scan ID: 1     Time: 2019-08-05 16:56:25\n",
      "Persistent Unique Scan ID: '172f8622-4402-4650-80b9-21a1726428ca'\n",
      "\n",
      "\n",
      "\n",
      "[E 16:56:26.339 run_engine:1261] Run aborted\n",
      "    Traceback (most recent call last):\n",
      "      File \"/home/beams/S6BM/opt/miniconda3/envs/bluesky_py37/lib/python3.7/site-packages/bluesky/run_engine.py\", line 1150, in _run\n",
      "        msg = self._plan_stack[-1].send(resp)\n",
      "      File \"/home/beams29/S6BM/opt/bluesky_test/jupyter-ht-hedm/seisidd/tomo_plans.py\", line 216, in tomo_scan\n",
      "        return (yield from scan_closure())\n",
      "      File \"/home/beams/S6BM/opt/miniconda3/envs/bluesky_py37/lib/python3.7/site-packages/bluesky/utils.py\", line 1011, in dec_inner\n",
      "        return (yield from plan)\n",
      "      File \"/home/beams/S6BM/opt/miniconda3/envs/bluesky_py37/lib/python3.7/site-packages/bluesky/preprocessors.py\", line 939, in stage_wrapper\n",
      "        return (yield from finalize_wrapper(inner(), unstage_devices()))\n",
      "      File \"/home/beams/S6BM/opt/miniconda3/envs/bluesky_py37/lib/python3.7/site-packages/bluesky/preprocessors.py\", line 500, in finalize_wrapper\n",
      "        ret = yield from plan\n",
      "      File \"/home/beams/S6BM/opt/miniconda3/envs/bluesky_py37/lib/python3.7/site-packages/bluesky/preprocessors.py\", line 937, in inner\n",
      "        return (yield from plan)\n",
      "      File \"/home/beams/S6BM/opt/miniconda3/envs/bluesky_py37/lib/python3.7/site-packages/bluesky/utils.py\", line 1011, in dec_inner\n",
      "        return (yield from plan)\n",
      "      File \"/home/beams/S6BM/opt/miniconda3/envs/bluesky_py37/lib/python3.7/site-packages/bluesky/preprocessors.py\", line 326, in run_wrapper\n",
      "        else_plan=close_run)\n",
      "      File \"/home/beams/S6BM/opt/miniconda3/envs/bluesky_py37/lib/python3.7/site-packages/bluesky/preprocessors.py\", line 562, in contingency_wrapper\n",
      "        ret = yield from plan\n",
      "      File \"/home/beams29/S6BM/opt/bluesky_test/jupyter-ht-hedm/seisidd/tomo_plans.py\", line 195, in scan_closure\n",
      "        yield from collect_white_field(det, tomostage, cfg['tomo'], atfront=True)\n",
      "      File \"/home/beams/S6BM/opt/miniconda3/envs/bluesky_py37/lib/python3.7/site-packages/bluesky/utils.py\", line 1011, in dec_inner\n",
      "        return (yield from plan)\n",
      "      File \"/home/beams/S6BM/opt/miniconda3/envs/bluesky_py37/lib/python3.7/site-packages/bluesky/preprocessors.py\", line 316, in run_wrapper\n",
      "        rs_uid = yield from open_run(md)\n",
      "      File \"/home/beams/S6BM/opt/miniconda3/envs/bluesky_py37/lib/python3.7/site-packages/bluesky/plan_stubs.py\", line 713, in open_run\n",
      "        return (yield Msg('open_run', **(md or {})))\n",
      "      File \"/home/beams/S6BM/opt/miniconda3/envs/bluesky_py37/lib/python3.7/site-packages/bluesky/run_engine.py\", line 1208, in _run\n",
      "        new_response = yield from coro(msg)\n",
      "      File \"/home/beams/S6BM/opt/miniconda3/envs/bluesky_py37/lib/python3.7/site-packages/bluesky/run_engine.py\", line 1345, in _open_run\n",
      "        raise IllegalMessageSequence(\"A 'close_run' message was not \"\n",
      "    bluesky.utils.IllegalMessageSequence: A 'close_run' message was not received before the 'open_run' message\n"
     ]
    },
    {
     "name": "stderr",
     "output_type": "stream",
     "text": [
      "ERROR:bluesky.RE.139631694011136:Run aborted\n",
      "Traceback (most recent call last):\n",
      "  File \"/home/beams/S6BM/opt/miniconda3/envs/bluesky_py37/lib/python3.7/site-packages/bluesky/run_engine.py\", line 1150, in _run\n",
      "    msg = self._plan_stack[-1].send(resp)\n",
      "  File \"/home/beams29/S6BM/opt/bluesky_test/jupyter-ht-hedm/seisidd/tomo_plans.py\", line 216, in tomo_scan\n",
      "    return (yield from scan_closure())\n",
      "  File \"/home/beams/S6BM/opt/miniconda3/envs/bluesky_py37/lib/python3.7/site-packages/bluesky/utils.py\", line 1011, in dec_inner\n",
      "    return (yield from plan)\n",
      "  File \"/home/beams/S6BM/opt/miniconda3/envs/bluesky_py37/lib/python3.7/site-packages/bluesky/preprocessors.py\", line 939, in stage_wrapper\n",
      "    return (yield from finalize_wrapper(inner(), unstage_devices()))\n",
      "  File \"/home/beams/S6BM/opt/miniconda3/envs/bluesky_py37/lib/python3.7/site-packages/bluesky/preprocessors.py\", line 500, in finalize_wrapper\n",
      "    ret = yield from plan\n",
      "  File \"/home/beams/S6BM/opt/miniconda3/envs/bluesky_py37/lib/python3.7/site-packages/bluesky/preprocessors.py\", line 937, in inner\n",
      "    return (yield from plan)\n",
      "  File \"/home/beams/S6BM/opt/miniconda3/envs/bluesky_py37/lib/python3.7/site-packages/bluesky/utils.py\", line 1011, in dec_inner\n",
      "    return (yield from plan)\n",
      "  File \"/home/beams/S6BM/opt/miniconda3/envs/bluesky_py37/lib/python3.7/site-packages/bluesky/preprocessors.py\", line 326, in run_wrapper\n",
      "    else_plan=close_run)\n",
      "  File \"/home/beams/S6BM/opt/miniconda3/envs/bluesky_py37/lib/python3.7/site-packages/bluesky/preprocessors.py\", line 562, in contingency_wrapper\n",
      "    ret = yield from plan\n",
      "  File \"/home/beams29/S6BM/opt/bluesky_test/jupyter-ht-hedm/seisidd/tomo_plans.py\", line 195, in scan_closure\n",
      "    yield from collect_white_field(det, tomostage, cfg['tomo'], atfront=True)\n",
      "  File \"/home/beams/S6BM/opt/miniconda3/envs/bluesky_py37/lib/python3.7/site-packages/bluesky/utils.py\", line 1011, in dec_inner\n",
      "    return (yield from plan)\n",
      "  File \"/home/beams/S6BM/opt/miniconda3/envs/bluesky_py37/lib/python3.7/site-packages/bluesky/preprocessors.py\", line 316, in run_wrapper\n",
      "    rs_uid = yield from open_run(md)\n",
      "  File \"/home/beams/S6BM/opt/miniconda3/envs/bluesky_py37/lib/python3.7/site-packages/bluesky/plan_stubs.py\", line 713, in open_run\n",
      "    return (yield Msg('open_run', **(md or {})))\n",
      "  File \"/home/beams/S6BM/opt/miniconda3/envs/bluesky_py37/lib/python3.7/site-packages/bluesky/run_engine.py\", line 1208, in _run\n",
      "    new_response = yield from coro(msg)\n",
      "  File \"/home/beams/S6BM/opt/miniconda3/envs/bluesky_py37/lib/python3.7/site-packages/bluesky/run_engine.py\", line 1345, in _open_run\n",
      "    raise IllegalMessageSequence(\"A 'close_run' message was not \"\n",
      "bluesky.utils.IllegalMessageSequence: A 'close_run' message was not received before the 'open_run' message\n",
      "ERROR:root:Invalid alias: The name clear can't be aliased because it is another magic command.\n",
      "ERROR:root:Invalid alias: The name more can't be aliased because it is another magic command.\n",
      "ERROR:root:Invalid alias: The name less can't be aliased because it is another magic command.\n",
      "ERROR:root:Invalid alias: The name man can't be aliased because it is another magic command.\n"
     ]
    }
   ],
   "source": [
    "RE(tomo_scan(det, tomostage, A_shutter, suspend_A_shutter, scan_cfg, init_motors_pos))"
   ]
  },
  {
   "cell_type": "code",
   "execution_count": null,
   "metadata": {},
   "outputs": [],
   "source": []
  }
 ],
 "metadata": {
  "kernelspec": {
   "display_name": "Python 3",
   "language": "python",
   "name": "python3"
  },
  "language_info": {
   "codemirror_mode": {
    "name": "ipython",
    "version": 3
   },
   "file_extension": ".py",
   "mimetype": "text/x-python",
   "name": "python",
   "nbconvert_exporter": "python",
   "pygments_lexer": "ipython3",
   "version": "3.7.4"
  }
 },
 "nbformat": 4,
 "nbformat_minor": 4
}
