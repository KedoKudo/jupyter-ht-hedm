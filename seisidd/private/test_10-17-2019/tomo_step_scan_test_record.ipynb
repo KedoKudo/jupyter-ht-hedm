{
 "cells": [
  {
   "cell_type": "code",
   "execution_count": null,
   "metadata": {},
   "outputs": [],
   "source": [
    "This is a record of the Tomo test with step_scan only.\n",
    "\n",
    "Only manual input before testing is to set the FilePath (tiff1 and hdf1), and maybe set Create dir. depth to -5..."
   ]
  },
  {
   "cell_type": "code",
   "execution_count": 1,
   "metadata": {},
   "outputs": [],
   "source": [
    "import numpy as np\n",
    "import matplotlib\n",
    "import bluesky\n",
    "import ophyd\n",
    "import apstools\n",
    "import databroker\n",
    "\n",
    "from datetime import datetime\n",
    "from seisidd.experiment import Tomography"
   ]
  },
  {
   "cell_type": "code",
   "execution_count": 2,
   "metadata": {},
   "outputs": [
    {
     "name": "stderr",
     "output_type": "stream",
     "text": [
      "/opt/conda/lib/python3.7/site-packages/epics/pv.py:110: UserWarning: The `context` kwarg for epics.get_pv() is deprecated. New PVs will _not_ be created in the requested context.\n",
      "  'The `context` kwarg for epics.get_pv() is deprecated. New PVs '\n"
     ]
    }
   ],
   "source": [
    "test = Tomography()"
   ]
  },
  {
   "cell_type": "code",
   "execution_count": 3,
   "metadata": {},
   "outputs": [],
   "source": [
    "scan_cfg = 'seisidd/config/scan_template.yml'"
   ]
  },
  {
   "cell_type": "code",
   "execution_count": null,
   "metadata": {},
   "outputs": [],
   "source": [
    "Below is to test the tiff output\n",
    "Files from 0 ~ 24\n",
    "25 total images = 5 front white + 10 actual scan positions + 5 back white + 5 back black"
   ]
  },
  {
   "cell_type": "code",
   "execution_count": 4,
   "metadata": {},
   "outputs": [
    {
     "name": "stdout",
     "output_type": "stream",
     "text": [
      "Tomo configuration:\n",
      "type = step \n",
      "n_white = 5 \n",
      "n_dark = 5 \n",
      "sample_out_position:\n",
      "  kx = -1 \n",
      "  kz = 0 \n",
      "acquire_time = 0.3 \n",
      "acquire_period = 0.31 \n",
      "omega_step = 1 \n",
      "omega_start = 0.0 \n",
      "omega_end = 9.0 \n",
      "n_frames = 2 \n",
      "ROT_STAGE_FAST_SPEED = 1 \n",
      "accl = 3 \n",
      "readout_time = 0.001 \n",
      "n_projections = 10 \n",
      "total_images = 25 \n",
      "initial_kx = 0.0 \n",
      "initial_kz = 0.0 \n",
      "fronte_white_kx = -1.0 \n",
      "fronte_white_kz = 0.0 \n",
      "back_white_kx = -0.9876883405951378 \n",
      "back_white_kz = 0.15643446504023087 \n",
      "\n",
      "Output:\n",
      "filepath = /data \n",
      "fileprefix = ttt \n",
      "type = tif \n",
      "\n",
      "Transient Scan ID: 1     Time: 2019-10-17 20:43:42\n",
      "Persistent Unique Scan ID: 'a0a34cf5-bd24-4d3e-93fa-42e04b70eb46'\n",
      "New stream: 'primary'\n",
      "+-----------+------------+\n",
      "|   seq_num |       time |\n",
      "+-----------+------------+\n",
      "|         1 | 20:43:44.3 |\n",
      "|         2 | 20:43:46.3 |\n",
      "|         3 | 20:43:48.2 |\n",
      "|         4 | 20:43:50.1 |\n",
      "|         5 | 20:43:52.0 |\n",
      "|         6 | 20:43:54.0 |\n",
      "|         7 | 20:43:55.8 |\n",
      "|         8 | 20:43:57.7 |\n",
      "|         9 | 20:43:59.6 |\n",
      "|        10 | 20:44:01.5 |\n",
      "|        11 | 20:44:03.5 |\n",
      "|        12 | 20:44:08.2 |\n",
      "|        13 | 20:44:13.1 |\n",
      "+-----------+------------+\n",
      "generator tomo_scan ['a0a34cf5'] (scan num: 1)\n",
      "\n",
      "\n",
      "\n"
     ]
    },
    {
     "data": {
      "text/plain": [
       "('a0a34cf5-bd24-4d3e-93fa-42e04b70eb46',)"
      ]
     },
     "execution_count": 4,
     "metadata": {},
     "output_type": "execute_result"
    }
   ],
   "source": [
    "test.run(scan_cfg)"
   ]
  },
  {
   "cell_type": "code",
   "execution_count": null,
   "metadata": {},
   "outputs": [],
   "source": [
    "Below is to test the hdf output\n",
    "\n",
    "25 total images = 5 front white + 10 actual scan positions + 5 back white + 5 back black"
   ]
  },
  {
   "cell_type": "code",
   "execution_count": 5,
   "metadata": {},
   "outputs": [],
   "source": [
    "scan_cfg = 'seisidd/config/scan_template.yml'"
   ]
  },
  {
   "cell_type": "code",
   "execution_count": 6,
   "metadata": {},
   "outputs": [
    {
     "name": "stdout",
     "output_type": "stream",
     "text": [
      "Tomo configuration:\n",
      "type = step \n",
      "n_white = 5 \n",
      "n_dark = 5 \n",
      "sample_out_position:\n",
      "  kx = -1 \n",
      "  kz = 0 \n",
      "acquire_time = 0.3 \n",
      "acquire_period = 0.31 \n",
      "omega_step = 1 \n",
      "omega_start = 0.0 \n",
      "omega_end = 9.0 \n",
      "n_frames = 2 \n",
      "ROT_STAGE_FAST_SPEED = 1 \n",
      "accl = 3 \n",
      "readout_time = 0.001 \n",
      "n_projections = 10 \n",
      "total_images = 25 \n",
      "initial_kx = 0.0 \n",
      "initial_kz = 0.0 \n",
      "fronte_white_kx = -1.0 \n",
      "fronte_white_kz = 0.0 \n",
      "back_white_kx = -0.9876883405951378 \n",
      "back_white_kz = 0.15643446504023087 \n",
      "\n",
      "Output:\n",
      "filepath = /data \n",
      "fileprefix = ttt \n",
      "type = hdf \n",
      "\n",
      "Transient Scan ID: 2     Time: 2019-10-17 20:45:13\n",
      "Persistent Unique Scan ID: 'd439a5cb-5b9e-4b39-b6ab-96d498a42921'\n",
      "New stream: 'primary'\n",
      "+-----------+------------+\n",
      "|   seq_num |       time |\n",
      "+-----------+------------+\n",
      "|         1 | 20:45:17.6 |\n",
      "|         2 | 20:45:28.7 |\n",
      "|         3 | 20:45:30.6 |\n",
      "|         4 | 20:45:32.5 |\n",
      "|         5 | 20:45:34.4 |\n",
      "|         6 | 20:45:36.3 |\n",
      "|         7 | 20:45:38.3 |\n",
      "|         8 | 20:45:40.2 |\n",
      "|         9 | 20:45:42.1 |\n",
      "|        10 | 20:45:44.0 |\n",
      "|        11 | 20:45:45.9 |\n",
      "|        12 | 20:45:50.7 |\n",
      "|        13 | 20:45:55.4 |\n",
      "+-----------+------------+\n",
      "generator tomo_scan ['d439a5cb'] (scan num: 2)\n",
      "\n",
      "\n",
      "\n"
     ]
    },
    {
     "data": {
      "text/plain": [
       "('d439a5cb-5b9e-4b39-b6ab-96d498a42921',)"
      ]
     },
     "execution_count": 6,
     "metadata": {},
     "output_type": "execute_result"
    }
   ],
   "source": [
    "test.run(scan_cfg)\n"
   ]
  }
 ],
 "metadata": {
  "kernelspec": {
   "display_name": "Python 3",
   "language": "python",
   "name": "python3"
  },
  "language_info": {
   "codemirror_mode": {
    "name": "ipython",
    "version": 3
   },
   "file_extension": ".py",
   "mimetype": "text/x-python",
   "name": "python",
   "nbconvert_exporter": "python",
   "pygments_lexer": "ipython3",
   "version": "3.7.4"
  }
 },
 "nbformat": 4,
 "nbformat_minor": 4
}
