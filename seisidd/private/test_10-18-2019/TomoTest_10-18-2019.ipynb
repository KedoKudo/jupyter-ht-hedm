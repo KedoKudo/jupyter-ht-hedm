{
 "cells": [
  {
   "cell_type": "code",
   "execution_count": null,
   "metadata": {},
   "outputs": [],
   "source": [
    "10-18-2019\n",
    "\n",
    "This is a record of the Tomo test with step_scan only.\n",
    "\n",
    "Only manual input before testing is to set the FilePath (tiff1 and hdf1), and maybe set Create dir. depth to -5...\n",
    "\n",
    "Since the 10-17-2019 test, proc1 settings has been corrected. AutoSave settings in tiff1 and hdf1 has been turned on."
   ]
  },
  {
   "cell_type": "code",
   "execution_count": 1,
   "metadata": {},
   "outputs": [],
   "source": [
    "import numpy as np\n",
    "import matplotlib\n",
    "import bluesky\n",
    "import ophyd\n",
    "import apstools\n",
    "import databroker\n",
    "\n",
    "from datetime import datetime\n",
    "from seisidd.experiment import Tomography"
   ]
  },
  {
   "cell_type": "code",
   "execution_count": 2,
   "metadata": {},
   "outputs": [
    {
     "name": "stderr",
     "output_type": "stream",
     "text": [
      "/opt/conda/lib/python3.7/site-packages/epics/pv.py:110: UserWarning: The `context` kwarg for epics.get_pv() is deprecated. New PVs will _not_ be created in the requested context.\n",
      "  'The `context` kwarg for epics.get_pv() is deprecated. New PVs '\n"
     ]
    }
   ],
   "source": [
    "test = Tomography()"
   ]
  },
  {
   "cell_type": "code",
   "execution_count": 3,
   "metadata": {},
   "outputs": [],
   "source": [
    "scan_cfg = 'seisidd/config/scan_template.yml'"
   ]
  },
  {
   "cell_type": "code",
   "execution_count": null,
   "metadata": {},
   "outputs": [],
   "source": [
    "Below is to test the tiff output\n",
    "Files from 0 ~ 34\n",
    "35 total images = 5 front white + 20 actual scan positions + 5 back white + 5 back black"
   ]
  },
  {
   "cell_type": "code",
   "execution_count": null,
   "metadata": {},
   "outputs": [],
   "source": [
    "Note:\n",
    "    Image counter reads 175 after scan.\n",
    "    since n_frame = 5, \n",
    "    total images captured = 5 * 35 = 175."
   ]
  },
  {
   "cell_type": "code",
   "execution_count": 4,
   "metadata": {},
   "outputs": [
    {
     "name": "stdout",
     "output_type": "stream",
     "text": [
      "Tomo configuration:\n",
      "type = step \n",
      "n_white = 5 \n",
      "n_dark = 5 \n",
      "sample_out_position:\n",
      "  kx = -1 \n",
      "  kz = 0 \n",
      "acquire_time = 0.5 \n",
      "acquire_period = 0.51 \n",
      "omega_step = 1 \n",
      "omega_start = 0.0 \n",
      "omega_end = 19.0 \n",
      "n_frames = 5 \n",
      "ROT_STAGE_FAST_SPEED = 1 \n",
      "accl = 3 \n",
      "readout_time = 0.001 \n",
      "n_projections = 20 \n",
      "total_images = 35 \n",
      "initial_kx = 0.0 \n",
      "initial_kz = 0.0 \n",
      "fronte_white_kx = -1.0 \n",
      "fronte_white_kz = 0.0 \n",
      "back_white_kx = -0.9455185755993168 \n",
      "back_white_kz = 0.3255681544571567 \n",
      "\n",
      "Output:\n",
      "filepath = /data \n",
      "fileprefix = test \n",
      "type = tiff \n",
      "\n",
      "Transient Scan ID: 1     Time: 2019-10-18 16:21:09\n",
      "Persistent Unique Scan ID: '478f8b84-25d8-4ce1-8dc0-68faafd0c501'\n",
      "New stream: 'primary'\n",
      "+-----------+------------+\n",
      "|   seq_num |       time |\n",
      "+-----------+------------+\n",
      "|         1 | 16:21:11.3 |\n",
      "|         2 | 16:21:15.3 |\n",
      "|         3 | 16:21:19.1 |\n",
      "|         4 | 16:21:22.9 |\n",
      "|         5 | 16:21:26.7 |\n",
      "|         6 | 16:21:30.5 |\n",
      "|         7 | 16:21:34.3 |\n",
      "|         8 | 16:21:38.1 |\n",
      "|         9 | 16:21:41.9 |\n",
      "|        10 | 16:21:45.7 |\n",
      "|        11 | 16:21:49.5 |\n",
      "|        12 | 16:21:53.3 |\n",
      "|        13 | 16:21:57.1 |\n",
      "|        14 | 16:22:01.0 |\n",
      "|        15 | 16:22:04.8 |\n",
      "|        16 | 16:22:08.7 |\n",
      "|        17 | 16:22:12.5 |\n",
      "|        18 | 16:22:16.3 |\n",
      "|        19 | 16:22:20.1 |\n",
      "|        20 | 16:22:23.9 |\n",
      "|        21 | 16:22:27.7 |\n",
      "|        22 | 16:22:42.3 |\n",
      "|        23 | 16:22:56.9 |\n",
      "+-----------+------------+\n",
      "generator tomo_scan ['478f8b84'] (scan num: 1)\n",
      "\n",
      "\n",
      "\n"
     ]
    },
    {
     "data": {
      "text/plain": [
       "('478f8b84-25d8-4ce1-8dc0-68faafd0c501',)"
      ]
     },
     "execution_count": 4,
     "metadata": {},
     "output_type": "execute_result"
    }
   ],
   "source": [
    "test.run(scan_cfg)"
   ]
  },
  {
   "cell_type": "code",
   "execution_count": null,
   "metadata": {},
   "outputs": [],
   "source": [
    "Below is to test the hdf output\n",
    "\n",
    "35 total images = 5 front white + 20 actual scan positions + 5 back white + 5 back black"
   ]
  },
  {
   "cell_type": "code",
   "execution_count": 5,
   "metadata": {},
   "outputs": [],
   "source": [
    "scan_cfg = 'seisidd/config/scan_template.yml'"
   ]
  },
  {
   "cell_type": "code",
   "execution_count": null,
   "metadata": {},
   "outputs": [],
   "source": [
    "Note:\n",
    "    Image counter reads 350 after scan. This verifies the proc1 averaging (5 frames to 1)."
   ]
  },
  {
   "cell_type": "code",
   "execution_count": 6,
   "metadata": {},
   "outputs": [
    {
     "name": "stdout",
     "output_type": "stream",
     "text": [
      "Tomo configuration:\n",
      "type = step \n",
      "n_white = 5 \n",
      "n_dark = 5 \n",
      "sample_out_position:\n",
      "  kx = -1 \n",
      "  kz = 0 \n",
      "acquire_time = 0.5 \n",
      "acquire_period = 0.51 \n",
      "omega_step = 1 \n",
      "omega_start = 0.0 \n",
      "omega_end = 19.0 \n",
      "n_frames = 5 \n",
      "ROT_STAGE_FAST_SPEED = 1 \n",
      "accl = 3 \n",
      "readout_time = 0.001 \n",
      "n_projections = 20 \n",
      "total_images = 35 \n",
      "initial_kx = 0.0 \n",
      "initial_kz = 0.0 \n",
      "fronte_white_kx = -1.0 \n",
      "fronte_white_kz = 0.0 \n",
      "back_white_kx = -0.9455185755993168 \n",
      "back_white_kz = 0.3255681544571567 \n",
      "\n",
      "Output:\n",
      "filepath = /data \n",
      "fileprefix = test \n",
      "type = hdf \n",
      "\n",
      "Transient Scan ID: 2     Time: 2019-10-18 16:24:52\n",
      "Persistent Unique Scan ID: '6fb5585a-69a5-4023-97a6-9a1cba05dca5'\n",
      "New stream: 'primary'\n",
      "+-----------+------------+\n",
      "|   seq_num |       time |\n",
      "+-----------+------------+\n",
      "|         1 | 16:25:06.9 |\n",
      "|         2 | 16:25:29.9 |\n",
      "|         3 | 16:25:33.7 |\n",
      "|         4 | 16:25:37.6 |\n",
      "|         5 | 16:25:41.4 |\n",
      "|         6 | 16:25:45.2 |\n",
      "|         7 | 16:25:49.0 |\n",
      "|         8 | 16:25:52.8 |\n",
      "|         9 | 16:25:56.6 |\n",
      "|        10 | 16:26:00.4 |\n",
      "|        11 | 16:26:04.2 |\n",
      "|        12 | 16:26:08.0 |\n",
      "|        13 | 16:26:11.8 |\n",
      "|        14 | 16:26:15.6 |\n",
      "|        15 | 16:26:19.4 |\n",
      "|        16 | 16:26:23.2 |\n",
      "|        17 | 16:26:27.1 |\n",
      "|        18 | 16:26:30.8 |\n",
      "|        19 | 16:26:34.6 |\n",
      "|        20 | 16:26:38.5 |\n",
      "|        21 | 16:26:42.3 |\n",
      "|        22 | 16:26:56.8 |\n",
      "|        23 | 16:27:11.5 |\n",
      "+-----------+------------+\n",
      "generator tomo_scan ['6fb5585a'] (scan num: 2)\n",
      "\n",
      "\n",
      "\n"
     ]
    },
    {
     "data": {
      "text/plain": [
       "('6fb5585a-69a5-4023-97a6-9a1cba05dca5',)"
      ]
     },
     "execution_count": 6,
     "metadata": {},
     "output_type": "execute_result"
    }
   ],
   "source": [
    "test.run(scan_cfg)\n"
   ]
  },
  {
   "cell_type": "code",
   "execution_count": null,
   "metadata": {},
   "outputs": [],
   "source": []
  }
 ],
 "metadata": {
  "kernelspec": {
   "display_name": "Python 3",
   "language": "python",
   "name": "python3"
  },
  "language_info": {
   "codemirror_mode": {
    "name": "ipython",
    "version": 3
   },
   "file_extension": ".py",
   "mimetype": "text/x-python",
   "name": "python",
   "nbconvert_exporter": "python",
   "pygments_lexer": "ipython3",
   "version": "3.7.4"
  }
 },
 "nbformat": 4,
 "nbformat_minor": 4
}
